{
 "cells": [
  {
   "cell_type": "code",
   "execution_count": 5,
   "metadata": {},
   "outputs": [],
   "source": [
    "#!/usr/bin/python\n",
    "# -*- coding: utf-8 -*-\n",
    "\n",
    "from bs4 import BeautifulSoup\n",
    "import urllib\n",
    "import json\n",
    "import numpy as np\n",
    "\n",
    "import hashlib\n",
    "import sqlite3 \n",
    "import time\n",
    "import pickle as cPickle\n",
    "import re\n",
    "from collections import Counter \n",
    "\n",
    "\n",
    "import wget\n",
    "\n",
    "import os.path\n",
    "\n",
    "#import graph_tool as gt\n",
    "\n",
    "MaDB = \"patents.db\"\n"
   ]
  },
  {
   "cell_type": "code",
   "execution_count": 7,
   "metadata": {},
   "outputs": [],
   "source": [
    "def CreateMD(mydb):\n",
    "    g = gt.Graph()\n",
    "    vprop_int = g.new_vertex_property(\"int\")\n",
    "    \n",
    "    MDText = \"# Mapping \\n\\n\"\n",
    "    conn = sqlite3.connect(mydb)\n",
    "    cursor = conn.cursor()\n",
    "    print(mydb)\n",
    "    Request =  'SELECT p_id, p_date FROM patents ORDER BY p_date'\n",
    "    #print Request\n",
    "    cursor.execute(Request)\n",
    "    DB = []\n",
    "    for row in cursor:\n",
    "        DB.append(row[0])\n",
    "        v = g.add_vertex()\n",
    "    print(len(DB))\n",
    "    Request =  'SELECT p_id, p_title, p_date, p_abstract, p_backward, p_forward FROM patents ORDER BY p_date'\n",
    "    #print Request\n",
    "    cursor.execute(Request)\n",
    "\n",
    "    for row in cursor:\n",
    "        s = DB.index(row[0])\n",
    "        \n",
    "        TopFW = [x for x in list(set(row[5].split(\", \"))) if x in DB]\n",
    "        TopBW = [x for x in list(set(row[4].split(\", \"))) if x in DB]\n",
    "        #for FW in TopFW:\n",
    "        #    i = DB.index(FW)\n",
    "        #    g.add_edge(g.vertex(s), g.vertex(i))\n",
    "        #for BW in TopBW:\n",
    "        #    i = DB.index(BW)\n",
    "        #    g.add_edge(g.vertex(i), g.vertex(s))\n",
    "            \n",
    "\n",
    "    \n",
    "    state = gt.minimize_blockmodel_dl(g)\n",
    "    pr = gt.pagerank(g)\n",
    "    A = pr.get_array()\n",
    "    M = max(A)\n",
    "    #state.draw(output=\"state.draw.png\")\n",
    "    \n",
    "    b = state.get_blocks()\n",
    "    for k in range(len(DB)):\n",
    "        vprop_int[g.vertex(k)] = b[k]\n",
    "    \n",
    "    pos = gt.fruchterman_reingold_layout(g,a=10,r = 500,circular = False)\n",
    "    gt.graph_draw(g, pos, \n",
    "           output_size=(1000, 1000),\n",
    "           #vertex_color=[1,1,1,0],\n",
    "           vertex_fill_color=vprop_int,\n",
    "           vertex_size=gt.prop_to_size(pr, mi=5, ma=15),vorder=pr,\n",
    "           #vertex_size=1, edge_pen_width=1.2, \n",
    "           output=\"patents_pagerank.png\")\n",
    "    \n",
    "    # PageRank\n",
    "    PR = []\n",
    "    for k in range(len(DB)):\n",
    "        PR.append(prank[k])\n",
    "    ind = np.argpartition(PR, -20)[-20:]\n",
    "    \n",
    "    Request =  'SELECT p_id, p_title, p_date, p_abstract, p_backward, p_forward FROM patents ORDER BY p_date'\n",
    "    cursor.execute(Request)\n",
    "    Top20 = \"# Highest Pages\\n\"\n",
    "    \n",
    "    \n",
    "    for row in cursor:\n",
    "        p = DB.index(row[0])\n",
    "        AB = row[3].replace(\"Abstract\",\"\").strip()\n",
    "        AB1 = \"\\n\"+AB.split(\"\\n\\n\")[0][:1000]+\"\\n\"\n",
    "        \n",
    "        MDText += \"## \"+row[1].replace(\"Google Patents\",\"\").replace(\"-\",\"\").replace(\"\\n\",\"\").strip()+\" -- (_\"+row[0]+\"_)\\n\\n\"\n",
    "        Top20 += \"* (_\"+row[0]+\"_) \"+row[1].replace(\"Google Patents\",\"\").replace(\"-\",\"\").replace(\"\\n\",\"\").strip()\n",
    "        \n",
    "        MDText += \"### Info:\\n* Date: \"+row[2]+\"\\n\"\n",
    "        Top20 += \" - on \"+row[2]+\" - pagerank:\"+str(int(1000*A[p]/M))+\"\\n\"\n",
    "        \n",
    "        MDText += \"* Pagerank: \"+str(int(1000*A[p]/M))+\"\\n\"\n",
    "        MDText += \"* Modularity class: \"+str( b[p] )+\"\\n\"\n",
    "        MDText += \"* Backward: \"+row[4]+\"\\n\"\n",
    "        MDText += \"* Forward: \"+row[5]+\"\\n\\n\"\n",
    "        MDText += \"### Abstract:\\n \"+AB1+\"\\n\"\n",
    "            \n",
    "\n",
    "    conn.close()\n",
    "    \n",
    "    MDText += \"\\n\"+Top20\n",
    "        \n",
    "    f = open(\"summary.md\",\"w\") \n",
    "    f.write(MDText)\n",
    "    f.close() \n",
    "\n",
    "    return MDText,pr,g,b,DB,A"
   ]
  },
  {
   "cell_type": "code",
   "execution_count": 8,
   "metadata": {},
   "outputs": [
    {
     "ename": "NameError",
     "evalue": "name 'gt' is not defined",
     "output_type": "error",
     "traceback": [
      "\u001b[0;31m---------------------------------------------------------------------------\u001b[0m",
      "\u001b[0;31mNameError\u001b[0m                                 Traceback (most recent call last)",
      "\u001b[0;32m<ipython-input-8-4df839653890>\u001b[0m in \u001b[0;36m<module>\u001b[0;34m\u001b[0m\n\u001b[0;32m----> 1\u001b[0;31m \u001b[0mMDText\u001b[0m\u001b[0;34m,\u001b[0m\u001b[0mpr\u001b[0m\u001b[0;34m,\u001b[0m\u001b[0mg\u001b[0m\u001b[0;34m,\u001b[0m\u001b[0mb\u001b[0m\u001b[0;34m,\u001b[0m\u001b[0mDB\u001b[0m\u001b[0;34m,\u001b[0m\u001b[0mprank\u001b[0m \u001b[0;34m=\u001b[0m \u001b[0mCreateMD\u001b[0m\u001b[0;34m(\u001b[0m\u001b[0mMaDB\u001b[0m\u001b[0;34m)\u001b[0m\u001b[0;34m\u001b[0m\u001b[0;34m\u001b[0m\u001b[0m\n\u001b[0m",
      "\u001b[0;32m<ipython-input-7-b8ce769d5eec>\u001b[0m in \u001b[0;36mCreateMD\u001b[0;34m(mydb)\u001b[0m\n\u001b[1;32m      1\u001b[0m \u001b[0;32mdef\u001b[0m \u001b[0mCreateMD\u001b[0m\u001b[0;34m(\u001b[0m\u001b[0mmydb\u001b[0m\u001b[0;34m)\u001b[0m\u001b[0;34m:\u001b[0m\u001b[0;34m\u001b[0m\u001b[0;34m\u001b[0m\u001b[0m\n\u001b[0;32m----> 2\u001b[0;31m     \u001b[0mg\u001b[0m \u001b[0;34m=\u001b[0m \u001b[0mgt\u001b[0m\u001b[0;34m.\u001b[0m\u001b[0mGraph\u001b[0m\u001b[0;34m(\u001b[0m\u001b[0;34m)\u001b[0m\u001b[0;34m\u001b[0m\u001b[0;34m\u001b[0m\u001b[0m\n\u001b[0m\u001b[1;32m      3\u001b[0m     \u001b[0mvprop_int\u001b[0m \u001b[0;34m=\u001b[0m \u001b[0mg\u001b[0m\u001b[0;34m.\u001b[0m\u001b[0mnew_vertex_property\u001b[0m\u001b[0;34m(\u001b[0m\u001b[0;34m\"int\"\u001b[0m\u001b[0;34m)\u001b[0m\u001b[0;34m\u001b[0m\u001b[0;34m\u001b[0m\u001b[0m\n\u001b[1;32m      4\u001b[0m \u001b[0;34m\u001b[0m\u001b[0m\n\u001b[1;32m      5\u001b[0m     \u001b[0mMDText\u001b[0m \u001b[0;34m=\u001b[0m \u001b[0;34m\"# Mapping \\n\\n\"\u001b[0m\u001b[0;34m\u001b[0m\u001b[0;34m\u001b[0m\u001b[0m\n",
      "\u001b[0;31mNameError\u001b[0m: name 'gt' is not defined"
     ]
    }
   ],
   "source": [
    "MDText,pr,g,b,DB,prank = CreateMD(MaDB)"
   ]
  },
  {
   "cell_type": "code",
   "execution_count": 103,
   "metadata": {},
   "outputs": [],
   "source": []
  },
  {
   "cell_type": "code",
   "execution_count": 106,
   "metadata": {},
   "outputs": [],
   "source": [
    "\n",
    "print ind\n",
    "for i in ind:\n",
    "    print PR[i]"
   ]
  },
  {
   "cell_type": "code",
   "execution_count": null,
   "metadata": {
    "collapsed": true
   },
   "outputs": [],
   "source": []
  }
 ],
 "metadata": {
  "kernelspec": {
   "display_name": "Python 2",
   "language": "python",
   "name": "python2"
  },
  "language_info": {
   "codemirror_mode": {
    "name": "ipython",
    "version": 3
   },
   "file_extension": ".py",
   "mimetype": "text/x-python",
   "name": "python",
   "nbconvert_exporter": "python",
   "pygments_lexer": "ipython3",
   "version": "3.6.9"
  }
 },
 "nbformat": 4,
 "nbformat_minor": 2
}

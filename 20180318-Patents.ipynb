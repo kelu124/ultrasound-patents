{
 "cells": [
  {
   "cell_type": "code",
   "execution_count": 5,
   "metadata": {
    "collapsed": false
   },
   "outputs": [],
   "source": [
    "#!/usr/bin/env python\n",
    "# -*- coding: utf-8 -*-\n",
    "# -------------------------\n",
    "# (c) kelu124\n",
    "# cc-by-sa/4.0/\n",
    "# -------------------------\n",
    "# Requires GraphViz and Wand\n",
    "# -------------------------\n",
    "# Use ./makedoc.py full  \n",
    "# to have the graphs generated\n",
    "# -------------------------\n",
    "\n",
    "\n",
    "import patents_lib as kPatents\n",
    "from graph_lib import *\n",
    "from collections import Counter\n",
    "\n",
    "'''Description: Getting and parsing patents.'''\n",
    "\n",
    "__author__      = \"kelu124\"\n",
    "__copyright__   = \"Copyright 2018, kelu124\"\n",
    "__license__ \t= \"cc-by-sa/4.0/\"\n",
    "\n",
    "\n",
    "New = [\"US5460179A\",\"US20030097067A1\",\"US9289187B2\"]\n",
    "MaDB = \"patents.db\"\n"
   ]
  },
  {
   "cell_type": "markdown",
   "metadata": {},
   "source": [
    "# Init the DB if not already here"
   ]
  },
  {
   "cell_type": "code",
   "execution_count": 14,
   "metadata": {
    "collapsed": true
   },
   "outputs": [],
   "source": [
    "kPatents.check_or_create_all_tables(MaDB)\n"
   ]
  },
  {
   "cell_type": "markdown",
   "metadata": {},
   "source": [
    "## Get the patents"
   ]
  },
  {
   "cell_type": "code",
   "execution_count": 6,
   "metadata": {
    "collapsed": false
   },
   "outputs": [],
   "source": [
    "for Patent in New:\n",
    "    print \"Testing: \"+Patent\n",
    "    result = kPatents.get_soup(Patent,MaDB)\n"
   ]
  },
  {
   "cell_type": "code",
   "execution_count": 7,
   "metadata": {
    "collapsed": true
   },
   "outputs": [],
   "source": [
    "#getGraph(MaDB)"
   ]
  },
  {
   "cell_type": "code",
   "execution_count": 2,
   "metadata": {
    "collapsed": false
   },
   "outputs": [],
   "source": [
    "Top10Backwards = kPatents.get_top_back(MaDB)\n",
    "print Top10Backwards"
   ]
  },
  {
   "cell_type": "code",
   "execution_count": 16,
   "metadata": {
    "collapsed": false
   },
   "outputs": [],
   "source": [
    "Top10 = kPatents.get_top(MaDB)\n",
    "print Top10"
   ]
  },
  {
   "cell_type": "markdown",
   "metadata": {},
   "source": [
    "## Get the top referenced patents"
   ]
  },
  {
   "cell_type": "code",
   "execution_count": 17,
   "metadata": {
    "collapsed": false
   },
   "outputs": [],
   "source": [
    "for k in range(2):\n",
    "    kPatents.GetTopPat(MaDB)"
   ]
  },
  {
   "cell_type": "code",
   "execution_count": null,
   "metadata": {
    "collapsed": true
   },
   "outputs": [],
   "source": []
  },
  {
   "cell_type": "markdown",
   "metadata": {},
   "source": [
    "## Get the images of selected patents "
   ]
  },
  {
   "cell_type": "code",
   "execution_count": 8,
   "metadata": {
    "collapsed": false
   },
   "outputs": [
    {
     "data": {
      "text/plain": [
       "1"
      ]
     },
     "execution_count": 8,
     "metadata": {},
     "output_type": "execute_result"
    }
   ],
   "source": [
    "kPatents.get_images(\"US5400790A\")\n",
    "kPatents.get_images(\"US3247709A\")\n",
    "kPatents.get_images(\"US3913061A\")\n",
    "kPatents.get_images(\"US3893449A\")\n",
    "\n",
    "US3974826A\n"
   ]
  },
  {
   "cell_type": "code",
   "execution_count": null,
   "metadata": {
    "collapsed": false
   },
   "outputs": [],
   "source": [
    "result = kPatents.get_own_top(MaDB)\n",
    "getSelectedGraph(MaDB,result)"
   ]
  },
  {
   "cell_type": "code",
   "execution_count": 11,
   "metadata": {
    "collapsed": false
   },
   "outputs": [],
   "source": [
    "print \"lol\""
   ]
  },
  {
   "cell_type": "code",
   "execution_count": null,
   "metadata": {
    "collapsed": true
   },
   "outputs": [],
   "source": []
  }
 ],
 "metadata": {
  "kernelspec": {
   "display_name": "Python 2",
   "language": "python",
   "name": "python2"
  },
  "language_info": {
   "codemirror_mode": {
    "name": "ipython",
    "version": 2
   },
   "file_extension": ".py",
   "mimetype": "text/x-python",
   "name": "python",
   "nbconvert_exporter": "python",
   "pygments_lexer": "ipython2",
   "version": "2.7.12"
  }
 },
 "nbformat": 4,
 "nbformat_minor": 2
}

{
 "cells": [
  {
   "cell_type": "code",
   "execution_count": 10,
   "metadata": {
    "collapsed": false
   },
   "outputs": [],
   "source": [
    "#!/usr/bin/env python\n",
    "# -*- coding: utf-8 -*-\n",
    "# -------------------------\n",
    "# (c) kelu124\n",
    "# cc-by-sa/4.0/\n",
    "# -------------------------\n",
    "# Requires GraphViz and Wand\n",
    "# -------------------------\n",
    "# Use ./makedoc.py full  \n",
    "# to have the graphs generated\n",
    "# -------------------------\n",
    "\n",
    "\n",
    "import patents_lib as kPatents\n",
    "from graph_lib import *\n",
    "from collections import Counter\n",
    "\n",
    "'''Description: Getting and parsing patents.'''\n",
    "\n",
    "__author__      = \"kelu124\"\n",
    "__copyright__   = \"Copyright 2016, Kelu124\"\n",
    "__license__ \t= \"cc-by-sa/4.0/\"\n",
    "\n",
    "ListOfPatents =[\"US3918024\",\"US4413629\",\"US4159462\",\"US5295485\",\"US3919683\",\"US4075598\",\"US4030343\",\"US3918025\",\"US3419845\",\"US3166731\",\"US4241608\",\"US3864660\",\"US3911730\",\"US3805596\",\"US3820387\",\"US3693415\",\"US3675472\",\"US3789833\",\"US4253338\",\"US4319489\",\"US4030343\"]\n",
    "AcWin = [\"US6689066\",\"US6689066\",\"US7931596\",\"US6182341\",\"US5810733A\"]\n",
    "# @todo : US4399703A\n",
    "New = [\"US4398425A\",\"EP0051927A1\",\"US4092867A\",\"US3721227A\",\"US3784805A\",\"US3955561A\",\"US3990300A\",\"DE2822261A1\",\"US4479388A\"]\n",
    "\n",
    "MaDB = \"patents.db\"\n"
   ]
  },
  {
   "cell_type": "code",
   "execution_count": 11,
   "metadata": {
    "collapsed": false
   },
   "outputs": [],
   "source": [
    "for Patent in New:\n",
    "    kPatents.GetPatent(Patent)"
   ]
  },
  {
   "cell_type": "code",
   "execution_count": 12,
   "metadata": {
    "collapsed": false
   },
   "outputs": [],
   "source": [
    "kPatents.check_or_create_all_tables(MaDB)\n",
    "print \"Checks done\"\n",
    "for Patent in New:\n",
    "    print \"Testing: \"+Patent\n",
    "    result = kPatents.get_soup(Patent,MaDB)\n"
   ]
  },
  {
   "cell_type": "code",
   "execution_count": 13,
   "metadata": {
    "collapsed": true
   },
   "outputs": [],
   "source": [
    "#getGraph(MaDB)"
   ]
  },
  {
   "cell_type": "code",
   "execution_count": 14,
   "metadata": {
    "collapsed": false
   },
   "outputs": [],
   "source": [
    "Top10 = kPatents.get_top(MaDB)\n",
    "print Top10"
   ]
  },
  {
   "cell_type": "code",
   "execution_count": 15,
   "metadata": {
    "collapsed": false
   },
   "outputs": [],
   "source": [
    "#kPatents.GetTopPat(MaDB)"
   ]
  },
  {
   "cell_type": "code",
   "execution_count": 16,
   "metadata": {
    "collapsed": false
   },
   "outputs": [
    {
     "data": {
      "text/plain": [
       "1"
      ]
     },
     "execution_count": 16,
     "metadata": {},
     "output_type": "execute_result"
    }
   ],
   "source": [
    "\n",
    "kPatents.get_images(\"US3955561A\")\n",
    "kPatents.get_images(\"US4479388A\")\n",
    "kPatents.get_images(\"US4398425A\")\n",
    "\n"
   ]
  },
  {
   "cell_type": "code",
   "execution_count": null,
   "metadata": {
    "collapsed": true
   },
   "outputs": [],
   "source": []
  }
 ],
 "metadata": {
  "kernelspec": {
   "display_name": "Python 2",
   "language": "python",
   "name": "python2"
  },
  "language_info": {
   "codemirror_mode": {
    "name": "ipython",
    "version": 2
   },
   "file_extension": ".py",
   "mimetype": "text/x-python",
   "name": "python",
   "nbconvert_exporter": "python",
   "pygments_lexer": "ipython2",
   "version": "2.7.12"
  }
 },
 "nbformat": 4,
 "nbformat_minor": 2
}

{
 "cells": [
  {
   "cell_type": "markdown",
   "metadata": {},
   "source": [
    "# Using NLTK to get similar patents"
   ]
  },
  {
   "cell_type": "code",
   "execution_count": 38,
   "metadata": {
    "collapsed": false
   },
   "outputs": [],
   "source": [
    "#!/usr/bin/python\n",
    "# -*- coding: utf-8 -*-\n",
    "\n",
    "from bs4 import BeautifulSoup\n",
    "import urllib\n",
    "import json\n",
    "import numpy as np\n",
    "\n",
    "import hashlib\n",
    "import sqlite3\n",
    "import urllib2\n",
    "import time\n",
    "import pickle as cPickle\n",
    "import re\n",
    "from collections import Counter\n",
    "\n",
    "from os import listdir\n",
    "from os.path import isfile, join\n",
    "\n",
    "import sys\n",
    "reload(sys)\n",
    "sys.setdefaultencoding('utf-8')\n",
    "\n",
    "import pandas as pd\n",
    "import sklearn\n",
    "import numpy as np\n",
    "import nltk\n",
    "import re\n",
    "import time\n",
    "import codecs\n",
    "\n",
    "import os.path\n",
    "\n",
    "import pandas as pd\n",
    "pd.options.display.max_columns = 200\n",
    "pd.options.mode.chained_assignment = None\n",
    "\n",
    "from nltk.tokenize import word_tokenize, sent_tokenize\n",
    "from nltk.corpus import stopwords\n",
    "stop = set(stopwords.words('english'))\n",
    "from string import punctuation\n",
    "\n",
    "from collections import Counter\n",
    "import re\n",
    "import numpy as np\n",
    "\n",
    "from tqdm import tqdm_notebook\n",
    "tqdm_notebook().pandas()\n",
    "\n",
    "from sklearn.neighbors import NearestNeighbors\n",
    "\n",
    "from sklearn.feature_extraction.text import TfidfVectorizer"
   ]
  },
  {
   "cell_type": "code",
   "execution_count": 27,
   "metadata": {
    "collapsed": true
   },
   "outputs": [],
   "source": [
    "def clean_text(text):\n",
    "    stop_words = ['\\x0c', '\\n']\n",
    "    for i in stop_words:\n",
    "        text.replace(i, ' ')\n",
    "    clean_text = re.sub('[^a-zA-Z]+', ' ', text)\n",
    "    return clean_text.lower()\n",
    "def tokenize_and_stem(text):\n",
    "    tokens = nltk.word_tokenize(text)\n",
    "    stemmer = nltk.stem.porter.PorterStemmer()\n",
    "    return [i for i in [stemmer.stem(t) for t in tokens] if len(i) > 2]"
   ]
  },
  {
   "cell_type": "code",
   "execution_count": 11,
   "metadata": {
    "collapsed": false
   },
   "outputs": [],
   "source": [
    "onlyfiles = [f for f in listdir(\"./.cache/\") if isfile(join(\"./.cache/\", f))]\n",
    "print onlyfiles"
   ]
  },
  {
   "cell_type": "code",
   "execution_count": 17,
   "metadata": {
    "collapsed": false
   },
   "outputs": [],
   "source": [
    "text = pd.DataFrame(columns = [\"id\", \"content\"])\n",
    "\n",
    "for fname in onlyfiles:\n",
    "    pURL = \"./.cache/\"+fname\n",
    "    file_object  = open(pURL, \"r\") \n",
    "    r =  file_object.read()\n",
    "\n",
    "    soup = BeautifulSoup(r,\"lxml\")\n",
    "    \n",
    "    try:\n",
    "        abstr = fname\n",
    "        content = soup.getText()\n",
    "        \n",
    "        text = text.append(pd.DataFrame([[abstr, content]],\n",
    "                             columns=[\"id\", \"content\"]),\n",
    "                      ignore_index=True)            \n",
    "    except:\n",
    "        pass\n",
    "        \n",
    "    print fname\n"
   ]
  },
  {
   "cell_type": "code",
   "execution_count": 67,
   "metadata": {
    "collapsed": true
   },
   "outputs": [],
   "source": [
    "text.to_csv('./pandas.csv', index=False, encoding='utf-8')"
   ]
  },
  {
   "cell_type": "code",
   "execution_count": 68,
   "metadata": {
    "collapsed": false
   },
   "outputs": [
    {
     "data": {
      "text/plain": [
       "(287, 3)"
      ]
     },
     "execution_count": 68,
     "metadata": {},
     "output_type": "execute_result"
    }
   ],
   "source": [
    "text.shape"
   ]
  },
  {
   "cell_type": "code",
   "execution_count": 26,
   "metadata": {
    "collapsed": false
   },
   "outputs": [
    {
     "data": {
      "text/html": [
       "<div>\n",
       "<style scoped>\n",
       "    .dataframe tbody tr th:only-of-type {\n",
       "        vertical-align: middle;\n",
       "    }\n",
       "\n",
       "    .dataframe tbody tr th {\n",
       "        vertical-align: top;\n",
       "    }\n",
       "\n",
       "    .dataframe thead th {\n",
       "        text-align: right;\n",
       "    }\n",
       "</style>\n",
       "<table border=\"1\" class=\"dataframe\">\n",
       "  <thead>\n",
       "    <tr style=\"text-align: right;\">\n",
       "      <th></th>\n",
       "      <th>id</th>\n",
       "      <th>content</th>\n",
       "      <th>content_clean</th>\n",
       "    </tr>\n",
       "  </thead>\n",
       "  <tbody>\n",
       "    <tr>\n",
       "      <th>0</th>\n",
       "      <td>US3676584A</td>\n",
       "      <td>\\n\\nUS3676584A - Echo coincidence ultrasonic s...</td>\n",
       "      <td>us a echo coincidence ultrasonic scanning goo...</td>\n",
       "    </tr>\n",
       "    <tr>\n",
       "      <th>1</th>\n",
       "      <td>US3090030A</td>\n",
       "      <td>\\n\\nUS3090030A - Variable focus transducer \\n ...</td>\n",
       "      <td>us a variable focus transducer google patents...</td>\n",
       "    </tr>\n",
       "    <tr>\n",
       "      <th>2</th>\n",
       "      <td>US3881164A</td>\n",
       "      <td>\\n\\nUS3881164A - Cross array ultrasonic transd...</td>\n",
       "      <td>us a cross array ultrasonic transducer google...</td>\n",
       "    </tr>\n",
       "    <tr>\n",
       "      <th>3</th>\n",
       "      <td>US5538004A</td>\n",
       "      <td>\\n\\nUS5538004A - Method and apparatus for tiss...</td>\n",
       "      <td>us a method and apparatus for tissue centered...</td>\n",
       "    </tr>\n",
       "    <tr>\n",
       "      <th>4</th>\n",
       "      <td>US5325860A</td>\n",
       "      <td>\\n\\nUS5325860A - Ultrasonic and interventional...</td>\n",
       "      <td>us a ultrasonic and interventional catheter a...</td>\n",
       "    </tr>\n",
       "  </tbody>\n",
       "</table>\n",
       "</div>"
      ],
      "text/plain": [
       "           id                                            content  \\\n",
       "0  US3676584A  \\n\\nUS3676584A - Echo coincidence ultrasonic s...   \n",
       "1  US3090030A  \\n\\nUS3090030A - Variable focus transducer \\n ...   \n",
       "2  US3881164A  \\n\\nUS3881164A - Cross array ultrasonic transd...   \n",
       "3  US5538004A  \\n\\nUS5538004A - Method and apparatus for tiss...   \n",
       "4  US5325860A  \\n\\nUS5325860A - Ultrasonic and interventional...   \n",
       "\n",
       "                                       content_clean  \n",
       "0   us a echo coincidence ultrasonic scanning goo...  \n",
       "1   us a variable focus transducer google patents...  \n",
       "2   us a cross array ultrasonic transducer google...  \n",
       "3   us a method and apparatus for tissue centered...  \n",
       "4   us a ultrasonic and interventional catheter a...  "
      ]
     },
     "execution_count": 26,
     "metadata": {},
     "output_type": "execute_result"
    }
   ],
   "source": [
    "text.head()"
   ]
  },
  {
   "cell_type": "code",
   "execution_count": 25,
   "metadata": {
    "collapsed": true
   },
   "outputs": [],
   "source": [
    "text['content_clean'] = text['content'].apply(clean_text) "
   ]
  },
  {
   "cell_type": "code",
   "execution_count": 29,
   "metadata": {
    "collapsed": true
   },
   "outputs": [],
   "source": [
    "# Create vectorizer for content, max_df is set to 0.5, we only want \n",
    "# to include terms that appear in less than 50% of the documents (i.e. rare terms)\n",
    "content_tfidf_vectorizer = TfidfVectorizer(max_df=0.5, min_df=0, max_features=200000,\n",
    "               stop_words='english', use_idf=True, tokenizer=tokenize_and_stem)"
   ]
  },
  {
   "cell_type": "code",
   "execution_count": 33,
   "metadata": {
    "collapsed": false
   },
   "outputs": [],
   "source": [
    "tfidf_weights = content_tfidf_vectorizer.fit_transform(text['content_clean'])"
   ]
  },
  {
   "cell_type": "code",
   "execution_count": 34,
   "metadata": {
    "collapsed": false
   },
   "outputs": [],
   "source": [
    "tfidf_features = content_tfidf_vectorizer.get_feature_names()"
   ]
  },
  {
   "cell_type": "code",
   "execution_count": 35,
   "metadata": {
    "collapsed": true
   },
   "outputs": [],
   "source": [
    "# Function for returning the top_k features of a content\n",
    "\n",
    "def get_top_features(rownum, weights, features, top_k=10):\n",
    "    weight_vec = weights.toarray()[rownum,:]\n",
    "    top_idx = np.argsort(weight_vec)[::-1][:top_k]\n",
    "    return [features[i] for i in top_idx]\n",
    "\n"
   ]
  },
  {
   "cell_type": "code",
   "execution_count": 66,
   "metadata": {
    "collapsed": false
   },
   "outputs": [
    {
     "data": {
      "text/plain": [
       "[u'counter',\n",
       " u'preset',\n",
       " u'focuss',\n",
       " u'termin',\n",
       " u'regist',\n",
       " u'shift',\n",
       " u'electro',\n",
       " u'deflect',\n",
       " u'convers',\n",
       " u'clock']"
      ]
     },
     "execution_count": 66,
     "metadata": {},
     "output_type": "execute_result"
    }
   ],
   "source": [
    "get_top_features(20, tfidf_weights, tfidf_features)"
   ]
  },
  {
   "cell_type": "code",
   "execution_count": 47,
   "metadata": {
    "collapsed": false
   },
   "outputs": [],
   "source": [
    "# Create the k-NN model using k=5\n",
    "nn = NearestNeighbors(n_neighbors=10, algorithm='auto')\n",
    "# Fit the models to the TF-IDF weights matrix\n",
    "nn_fitted = nn.fit(tfidf_weights)"
   ]
  },
  {
   "cell_type": "code",
   "execution_count": 48,
   "metadata": {
    "collapsed": true
   },
   "outputs": [],
   "source": [
    "def find_nearest_patents(row, kNNmodel, tfidf_weights, tfidf_features, papers):\n",
    "    keywords = get_top_features(row, tfidf_weights, tfidf_features)\n",
    "    dist,idx = kNNmodel.kneighbors(tfidf_weights[row,:])\n",
    "    idx = list(idx[0])\n",
    "    return {'papers':papers.ix[idx], 'keywords':keywords}"
   ]
  },
  {
   "cell_type": "code",
   "execution_count": 65,
   "metadata": {
    "collapsed": false
   },
   "outputs": [
    {
     "data": {
      "text/html": [
       "<div>\n",
       "<style scoped>\n",
       "    .dataframe tbody tr th:only-of-type {\n",
       "        vertical-align: middle;\n",
       "    }\n",
       "\n",
       "    .dataframe tbody tr th {\n",
       "        vertical-align: top;\n",
       "    }\n",
       "\n",
       "    .dataframe thead th {\n",
       "        text-align: right;\n",
       "    }\n",
       "</style>\n",
       "<table border=\"1\" class=\"dataframe\">\n",
       "  <thead>\n",
       "    <tr style=\"text-align: right;\">\n",
       "      <th></th>\n",
       "      <th>id</th>\n",
       "      <th>content</th>\n",
       "      <th>content_clean</th>\n",
       "    </tr>\n",
       "  </thead>\n",
       "  <tbody>\n",
       "    <tr>\n",
       "      <th>20</th>\n",
       "      <td>US4019169A</td>\n",
       "      <td>\\n\\nUS4019169A - Ultrasonic wave transmitting ...</td>\n",
       "      <td>us a ultrasonic wave transmitting and receivi...</td>\n",
       "    </tr>\n",
       "    <tr>\n",
       "      <th>23</th>\n",
       "      <td>US4136325A</td>\n",
       "      <td>\\n\\nUS4136325A - Ultrasonic wave transmitting ...</td>\n",
       "      <td>us a ultrasonic wave transmitting and receivi...</td>\n",
       "    </tr>\n",
       "    <tr>\n",
       "      <th>61</th>\n",
       "      <td>US4080838A</td>\n",
       "      <td>\\n\\nUS4080838A - Method and apparatus for cont...</td>\n",
       "      <td>us a method and apparatus for controlling ult...</td>\n",
       "    </tr>\n",
       "    <tr>\n",
       "      <th>127</th>\n",
       "      <td>US4099419A</td>\n",
       "      <td>\\n\\nUS4099419A - Ultrasonic tomography apparat...</td>\n",
       "      <td>us a ultrasonic tomography apparatus google p...</td>\n",
       "    </tr>\n",
       "    <tr>\n",
       "      <th>27</th>\n",
       "      <td>US4368643A</td>\n",
       "      <td>\\n\\nUS4368643A - Ultrasonic imaging by radial ...</td>\n",
       "      <td>us a ultrasonic imaging by radial scan beams ...</td>\n",
       "    </tr>\n",
       "    <tr>\n",
       "      <th>266</th>\n",
       "      <td>US4075598</td>\n",
       "      <td>\\n\\nUS4075598A - Ultrasonic wave transmitting ...</td>\n",
       "      <td>us a ultrasonic wave transmitting and receivi...</td>\n",
       "    </tr>\n",
       "    <tr>\n",
       "      <th>255</th>\n",
       "      <td>US4075598A</td>\n",
       "      <td>\\n\\nUS4075598A - Ultrasonic wave transmitting ...</td>\n",
       "      <td>us a ultrasonic wave transmitting and receivi...</td>\n",
       "    </tr>\n",
       "    <tr>\n",
       "      <th>137</th>\n",
       "      <td>US3324452A</td>\n",
       "      <td>\\n\\nUS3324452A - Digital phase control system ...</td>\n",
       "      <td>us a digital phase control system for use in ...</td>\n",
       "    </tr>\n",
       "    <tr>\n",
       "      <th>5</th>\n",
       "      <td>US4161122A</td>\n",
       "      <td>\\n\\nUS4161122A - Apparatus for examining bodie...</td>\n",
       "      <td>us a apparatus for examining bodies through s...</td>\n",
       "    </tr>\n",
       "    <tr>\n",
       "      <th>17</th>\n",
       "      <td>US3919683</td>\n",
       "      <td>\\n\\nUS3919683A - Ultrasonic wave transmitting ...</td>\n",
       "      <td>us a ultrasonic wave transmitting and receivi...</td>\n",
       "    </tr>\n",
       "  </tbody>\n",
       "</table>\n",
       "</div>"
      ],
      "text/plain": [
       "             id                                            content  \\\n",
       "20   US4019169A  \\n\\nUS4019169A - Ultrasonic wave transmitting ...   \n",
       "23   US4136325A  \\n\\nUS4136325A - Ultrasonic wave transmitting ...   \n",
       "61   US4080838A  \\n\\nUS4080838A - Method and apparatus for cont...   \n",
       "127  US4099419A  \\n\\nUS4099419A - Ultrasonic tomography apparat...   \n",
       "27   US4368643A  \\n\\nUS4368643A - Ultrasonic imaging by radial ...   \n",
       "266   US4075598  \\n\\nUS4075598A - Ultrasonic wave transmitting ...   \n",
       "255  US4075598A  \\n\\nUS4075598A - Ultrasonic wave transmitting ...   \n",
       "137  US3324452A  \\n\\nUS3324452A - Digital phase control system ...   \n",
       "5    US4161122A  \\n\\nUS4161122A - Apparatus for examining bodie...   \n",
       "17    US3919683  \\n\\nUS3919683A - Ultrasonic wave transmitting ...   \n",
       "\n",
       "                                         content_clean  \n",
       "20    us a ultrasonic wave transmitting and receivi...  \n",
       "23    us a ultrasonic wave transmitting and receivi...  \n",
       "61    us a method and apparatus for controlling ult...  \n",
       "127   us a ultrasonic tomography apparatus google p...  \n",
       "27    us a ultrasonic imaging by radial scan beams ...  \n",
       "266   us a ultrasonic wave transmitting and receivi...  \n",
       "255   us a ultrasonic wave transmitting and receivi...  \n",
       "137   us a digital phase control system for use in ...  \n",
       "5     us a apparatus for examining bodies through s...  \n",
       "17    us a ultrasonic wave transmitting and receivi...  "
      ]
     },
     "execution_count": 65,
     "metadata": {},
     "output_type": "execute_result"
    }
   ],
   "source": [
    "find_nearest_patents(20, nn_fitted, tfidf_weights, tfidf_features, text)['papers']"
   ]
  },
  {
   "cell_type": "code",
   "execution_count": 57,
   "metadata": {
    "collapsed": false
   },
   "outputs": [],
   "source": [
    "a = find_nearest_patents(20, nn_fitted, tfidf_weights, tfidf_features, text)['papers'][\"id\"]"
   ]
  },
  {
   "cell_type": "code",
   "execution_count": 64,
   "metadata": {
    "collapsed": false
   },
   "outputs": [
    {
     "data": {
      "text/plain": [
       "['US4019169A',\n",
       " 'US4136325A',\n",
       " 'US4080838A',\n",
       " 'US4099419A',\n",
       " 'US4368643A',\n",
       " 'US4075598',\n",
       " 'US4075598A',\n",
       " 'US3324452A',\n",
       " 'US4161122A',\n",
       " 'US3919683']"
      ]
     },
     "execution_count": 64,
     "metadata": {},
     "output_type": "execute_result"
    }
   ],
   "source": [
    "closest = []\n",
    "for k in a:\n",
    "    closest.append(k)\n",
    "closest"
   ]
  },
  {
   "cell_type": "code",
   "execution_count": 62,
   "metadata": {
    "collapsed": false
   },
   "outputs": [
    {
     "data": {
      "text/plain": [
       "[u'electrod',\n",
       " u'navico',\n",
       " u'triod',\n",
       " u'termin',\n",
       " u'relay',\n",
       " u'tirn',\n",
       " u'network',\n",
       " u'conductor',\n",
       " u'frorn',\n",
       " u'rnean']"
      ]
     },
     "execution_count": 62,
     "metadata": {},
     "output_type": "execute_result"
    }
   ],
   "source": [
    "find_nearest_patents(1, nn_fitted, tfidf_weights, tfidf_features, text)['keywords']"
   ]
  },
  {
   "cell_type": "code",
   "execution_count": null,
   "metadata": {
    "collapsed": true
   },
   "outputs": [],
   "source": []
  },
  {
   "cell_type": "code",
   "execution_count": null,
   "metadata": {
    "collapsed": true
   },
   "outputs": [],
   "source": []
  }
 ],
 "metadata": {
  "kernelspec": {
   "display_name": "Python 2",
   "language": "python",
   "name": "python2"
  },
  "language_info": {
   "codemirror_mode": {
    "name": "ipython",
    "version": 2
   },
   "file_extension": ".py",
   "mimetype": "text/x-python",
   "name": "python",
   "nbconvert_exporter": "python",
   "pygments_lexer": "ipython2",
   "version": "2.7.12"
  }
 },
 "nbformat": 4,
 "nbformat_minor": 2
}
